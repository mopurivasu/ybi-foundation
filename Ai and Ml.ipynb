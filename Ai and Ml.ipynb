{
  "nbformat": 4,
  "nbformat_minor": 0,
  "metadata": {
    "colab": {
      "provenance": [],
      "include_colab_link": true
    },
    "kernelspec": {
      "name": "python3",
      "display_name": "Python 3"
    },
    "language_info": {
      "name": "python"
    }
  },
  "cells": [
    {
      "cell_type": "markdown",
      "metadata": {
        "id": "view-in-github",
        "colab_type": "text"
      },
      "source": [
        "<a href=\"https://colab.research.google.com/github/mopurivasu/ybi-foundation/blob/main/Ai%20and%20Ml.ipynb\" target=\"_parent\"><img src=\"https://colab.research.google.com/assets/colab-badge.svg\" alt=\"Open In Colab\"/></a>"
      ]
    },
    {
      "cell_type": "code",
      "execution_count": null,
      "metadata": {
        "id": "s6mfCY47YW8r"
      },
      "outputs": [],
      "source": [
        "import pandas as pd"
      ]
    },
    {
      "cell_type": "code",
      "source": [
        "import numpy as np"
      ],
      "metadata": {
        "id": "Ku9NZhdqYu_w"
      },
      "execution_count": null,
      "outputs": []
    },
    {
      "cell_type": "code",
      "source": [
        "import matplotlib.pyplot as plt\n"
      ],
      "metadata": {
        "id": "gf9qaOA4Y2Sl"
      },
      "execution_count": null,
      "outputs": []
    },
    {
      "cell_type": "code",
      "source": [
        "from sklearn.datasets import load_digits"
      ],
      "metadata": {
        "id": "OquUnwwpY9TQ"
      },
      "execution_count": null,
      "outputs": []
    },
    {
      "cell_type": "code",
      "source": [
        "df=load_digits()"
      ],
      "metadata": {
        "id": "TU7akZ3YZHod"
      },
      "execution_count": null,
      "outputs": []
    },
    {
      "cell_type": "code",
      "source": [
        "_, axes=plt.subplots(nrows=1,ncols=4,figsize=(10,3))\n",
        "for ax, image, label in zip(axes,df.images, df.target):\n",
        "  ax.set_axis_off()\n",
        "  ax.imshow(image,cmap=plt.cm.gray_r, interpolation=\"nearest\")\n",
        "  ax.set_title(\"training: %i\" % label)\n"
      ],
      "metadata": {
        "colab": {
          "base_uri": "https://localhost:8080/",
          "height": 227
        },
        "id": "tmGt0AuOZMLL",
        "outputId": "734d3025-0793-4acf-d114-1fb6a4163d4e"
      },
      "execution_count": null,
      "outputs": [
        {
          "output_type": "display_data",
          "data": {
            "text/plain": [
              "<Figure size 1000x300 with 4 Axes>"
            ],
            "image/png": "[encoded data removed]"
          },
          "metadata": {}
        }
      ]
    },
    {
      "cell_type": "code",
      "source": [
        "df.images.shape\n"
      ],
      "metadata": {
        "colab": {
          "base_uri": "https://localhost:8080/"
        },
        "id": "2cJ2TXz0ZTwS",
        "outputId": "2b9e5da9-68ff-40fd-cfc9-c3f16ac698ab"
      },
      "execution_count": null,
      "outputs": [
        {
          "output_type": "execute_result",
          "data": {
            "text/plain": [
              "(1797, 8, 8)"
            ]
          },
          "metadata": {},
          "execution_count": 7
        }
      ]
    },
    {
      "cell_type": "code",
      "source": [
        "df.images[0]"
      ],
      "metadata": {
        "colab": {
          "base_uri": "https://localhost:8080/"
        },
        "id": "Ei3xL8RHZaw2",
        "outputId": "cae3f6ed-252d-4d30-f13f-a21e02771e0d"
      },
      "execution_count": null,
      "outputs": [
        {
          "output_type": "execute_result",
          "data": {
            "text/plain": [
              "array([[ 0.,  0.,  5., 13.,  9.,  1.,  0.,  0.],\n",
              "       [ 0.,  0., 13., 15., 10., 15.,  5.,  0.],\n",
              "       [ 0.,  3., 15.,  2.,  0., 11.,  8.,  0.],\n",
              "       [ 0.,  4., 12.,  0.,  0.,  8.,  8.,  0.],\n",
              "       [ 0.,  5.,  8.,  0.,  0.,  9.,  8.,  0.],\n",
              "       [ 0.,  4., 11.,  0.,  1., 12.,  7.,  0.],\n",
              "       [ 0.,  2., 14.,  5., 10., 12.,  0.,  0.],\n",
              "       [ 0.,  0.,  6., 13., 10.,  0.,  0.,  0.]])"
            ]
          },
          "metadata": {},
          "execution_count": 8
        }
      ]
    },
    {
      "cell_type": "code",
      "source": [
        "len(df.images)"
      ],
      "metadata": {
        "colab": {
          "base_uri": "https://localhost:8080/"
        },
        "id": "-VNDPJihZhI6",
        "outputId": "0f2a6562-5a89-4a9b-91ab-15ee7da68938"
      },
      "execution_count": null,
      "outputs": [
        {
          "output_type": "execute_result",
          "data": {
            "text/plain": [
              "1797"
            ]
          },
          "metadata": {},
          "execution_count": 9
        }
      ]
    },
    {
      "cell_type": "code",
      "source": [
        "n_samples=len(df.images)\n",
        "data=df.images.reshape((n_samples,-1))"
      ],
      "metadata": {
        "id": "XKbdty-rZo6c"
      },
      "execution_count": null,
      "outputs": []
    },
    {
      "cell_type": "code",
      "source": [
        "data[0]"
      ],
      "metadata": {
        "colab": {
          "base_uri": "https://localhost:8080/"
        },
        "id": "zIpc1KVHZw2V",
        "outputId": "6323a4cf-29c4-437d-8583-b2b37f90944f"
      },
      "execution_count": null,
      "outputs": [
        {
          "output_type": "execute_result",
          "data": {
            "text/plain": [
              "array([ 0.,  0.,  5., 13.,  9.,  1.,  0.,  0.,  0.,  0., 13., 15., 10.,\n",
              "       15.,  5.,  0.,  0.,  3., 15.,  2.,  0., 11.,  8.,  0.,  0.,  4.,\n",
              "       12.,  0.,  0.,  8.,  8.,  0.,  0.,  5.,  8.,  0.,  0.,  9.,  8.,\n",
              "        0.,  0.,  4., 11.,  0.,  1., 12.,  7.,  0.,  0.,  2., 14.,  5.,\n",
              "       10., 12.,  0.,  0.,  0.,  0.,  6., 13., 10.,  0.,  0.,  0.])"
            ]
          },
          "metadata": {},
          "execution_count": 11
        }
      ]
    },
    {
      "cell_type": "code",
      "source": [
        "data.shape"
      ],
      "metadata": {
        "colab": {
          "base_uri": "https://localhost:8080/"
        },
        "id": "k5pnOlb3Z8Zz",
        "outputId": "57bfae9c-2330-4a05-927b-19e86087f139"
      },
      "execution_count": null,
      "outputs": [
        {
          "output_type": "execute_result",
          "data": {
            "text/plain": [
              "(1797, 64)"
            ]
          },
          "metadata": {},
          "execution_count": 12
        }
      ]
    },
    {
      "cell_type": "code",
      "source": [
        "data.max()\n",
        "\n"
      ],
      "metadata": {
        "colab": {
          "base_uri": "https://localhost:8080/"
        },
        "id": "NiZPeRTWZ-g-",
        "outputId": "775577cd-0a97-4435-f424-2f4f5e5022f1"
      },
      "execution_count": null,
      "outputs": [
        {
          "output_type": "execute_result",
          "data": {
            "text/plain": [
              "16.0"
            ]
          },
          "metadata": {},
          "execution_count": 13
        }
      ]
    },
    {
      "cell_type": "code",
      "source": [
        "data.min()"
      ],
      "metadata": {
        "colab": {
          "base_uri": "https://localhost:8080/"
        },
        "id": "NC2JWJjxaGjb",
        "outputId": "0992b520-548f-4362-9133-e6c51c625a60"
      },
      "execution_count": null,
      "outputs": [
        {
          "output_type": "execute_result",
          "data": {
            "text/plain": [
              "0.0"
            ]
          },
          "metadata": {},
          "execution_count": 14
        }
      ]
    },
    {
      "cell_type": "code",
      "source": [
        "data=data/16"
      ],
      "metadata": {
        "id": "wvBZasMNaPGp"
      },
      "execution_count": null,
      "outputs": []
    },
    {
      "cell_type": "code",
      "source": [
        "data.min()"
      ],
      "metadata": {
        "colab": {
          "base_uri": "https://localhost:8080/"
        },
        "id": "WXZbSe5GagnV",
        "outputId": "9a56aeed-1887-424e-d390-a0c461f03a0b"
      },
      "execution_count": null,
      "outputs": [
        {
          "output_type": "execute_result",
          "data": {
            "text/plain": [
              "0.0"
            ]
          },
          "metadata": {},
          "execution_count": 16
        }
      ]
    },
    {
      "cell_type": "code",
      "source": [
        "data.max()"
      ],
      "metadata": {
        "colab": {
          "base_uri": "https://localhost:8080/"
        },
        "id": "p6VHAhVvaltl",
        "outputId": "e70769ec-a05b-4101-c392-ea2e45620fc7"
      },
      "execution_count": null,
      "outputs": [
        {
          "output_type": "execute_result",
          "data": {
            "text/plain": [
              "1.0"
            ]
          },
          "metadata": {},
          "execution_count": 17
        }
      ]
    },
    {
      "cell_type": "code",
      "source": [
        "data.max()"
      ],
      "metadata": {
        "colab": {
          "base_uri": "https://localhost:8080/"
        },
        "id": "nu4au_f5aqQA",
        "outputId": "9b582838-9977-46ac-d3bf-96a19ee4831a"
      },
      "execution_count": null,
      "outputs": [
        {
          "output_type": "execute_result",
          "data": {
            "text/plain": [
              "1.0"
            ]
          },
          "metadata": {},
          "execution_count": 18
        }
      ]
    },
    {
      "cell_type": "code",
      "source": [
        "data[0]"
      ],
      "metadata": {
        "colab": {
          "base_uri": "https://localhost:8080/"
        },
        "id": "MmL3KIzcaxIi",
        "outputId": "d3ab7eac-18c7-4a4c-e467-140bce013361"
      },
      "execution_count": null,
      "outputs": [
        {
          "output_type": "execute_result",
          "data": {
            "text/plain": [
              "array([0.    , 0.    , 0.3125, 0.8125, 0.5625, 0.0625, 0.    , 0.    ,\n",
              "       0.    , 0.    , 0.8125, 0.9375, 0.625 , 0.9375, 0.3125, 0.    ,\n",
              "       0.    , 0.1875, 0.9375, 0.125 , 0.    , 0.6875, 0.5   , 0.    ,\n",
              "       0.    , 0.25  , 0.75  , 0.    , 0.    , 0.5   , 0.5   , 0.    ,\n",
              "       0.    , 0.3125, 0.5   , 0.    , 0.    , 0.5625, 0.5   , 0.    ,\n",
              "       0.    , 0.25  , 0.6875, 0.    , 0.0625, 0.75  , 0.4375, 0.    ,\n",
              "       0.    , 0.125 , 0.875 , 0.3125, 0.625 , 0.75  , 0.    , 0.    ,\n",
              "       0.    , 0.    , 0.375 , 0.8125, 0.625 , 0.    , 0.    , 0.    ])"
            ]
          },
          "metadata": {},
          "execution_count": 19
        }
      ]
    },
    {
      "cell_type": "code",
      "source": [
        "from sklearn.model_selection import train_test_split\n"
      ],
      "metadata": {
        "id": "ZqhWz2QUa--g"
      },
      "execution_count": null,
      "outputs": []
    },
    {
      "cell_type": "code",
      "source": [
        "x_train,x_test,y_train,y_test=train_test_split(data,df.target,test_size=0.3)\n"
      ],
      "metadata": {
        "id": "73LqBvU8bEwx"
      },
      "execution_count": null,
      "outputs": []
    },
    {
      "cell_type": "code",
      "source": [
        "x_train.shape,x_test.shape,y_train.shape,y_test.shape"
      ],
      "metadata": {
        "colab": {
          "base_uri": "https://localhost:8080/"
        },
        "id": "Oo6zlDyybJ_T",
        "outputId": "198b285f-3011-4e2e-ecf5-6130d53f6a26"
      },
      "execution_count": null,
      "outputs": [
        {
          "output_type": "execute_result",
          "data": {
            "text/plain": [
              "((1257, 64), (540, 64), (1257,), (540,))"
            ]
          },
          "metadata": {},
          "execution_count": 23
        }
      ]
    },
    {
      "cell_type": "code",
      "source": [
        "from sklearn.ensemble import RandomForestClassifier\n",
        "\n"
      ],
      "metadata": {
        "id": "u-wb-ZPgbWaI"
      },
      "execution_count": null,
      "outputs": []
    },
    {
      "cell_type": "code",
      "source": [
        "rf=RandomForestClassifier()"
      ],
      "metadata": {
        "id": "lhjJvfjzbZzh"
      },
      "execution_count": null,
      "outputs": []
    },
    {
      "cell_type": "code",
      "source": [
        "rf.fit(x_train,y_train)"
      ],
      "metadata": {
        "colab": {
          "base_uri": "https://localhost:8080/",
          "height": 74
        },
        "id": "7HpFtdoGbfUs",
        "outputId": "41819b6c-af9e-45f4-9972-7bb86af65aaa"
      },
      "execution_count": null,
      "outputs": [
        {
          "output_type": "execute_result",
          "data": {
            "text/plain": [
              "RandomForestClassifier()"
            ],
            "text/html": [
              "<style>#sk-container-id-3 {color: black;background-color: white;}#sk-container-id-3 pre{padding: 0;}#sk-container-id-3 div.sk-toggleable {background-color: white;}#sk-container-id-3 label.sk-toggleable__label {cursor: pointer;display: block;width: 100%;margin-bottom: 0;padding: 0.3em;box-sizing: border-box;text-align: center;}#sk-container-id-3 label.sk-toggleable__label-arrow:before {content: \"▸\";float: left;margin-right: 0.25em;color: #696969;}#sk-container-id-3 label.sk-toggleable__label-arrow:hover:before {color: black;}#sk-container-id-3 div.sk-estimator:hover label.sk-toggleable__label-arrow:before {color: black;}#sk-container-id-3 div.sk-toggleable__content {max-height: 0;max-width: 0;overflow: hidden;text-align: left;background-color: #f0f8ff;}#sk-container-id-3 div.sk-toggleable__content pre {margin: 0.2em;color: black;border-radius: 0.25em;background-color: #f0f8ff;}#sk-container-id-3 input.sk-toggleable__control:checked~div.sk-toggleable__content {max-height: 200px;max-width: 100%;overflow: auto;}#sk-container-id-3 input.sk-toggleable__control:checked~label.sk-toggleable__label-arrow:before {content: \"▾\";}#sk-container-id-3 div.sk-estimator input.sk-toggleable__control:checked~label.sk-toggleable__label {background-color: #d4ebff;}#sk-container-id-3 div.sk-label input.sk-toggleable__control:checked~label.sk-toggleable__label {background-color: #d4ebff;}#sk-container-id-3 input.sk-hidden--visually {border: 0;clip: rect(1px 1px 1px 1px);clip: rect(1px, 1px, 1px, 1px);height: 1px;margin: -1px;overflow: hidden;padding: 0;position: absolute;width: 1px;}#sk-container-id-3 div.sk-estimator {font-family: monospace;background-color: #f0f8ff;border: 1px dotted black;border-radius: 0.25em;box-sizing: border-box;margin-bottom: 0.5em;}#sk-container-id-3 div.sk-estimator:hover {background-color: #d4ebff;}#sk-container-id-3 div.sk-parallel-item::after {content: \"\";width: 100%;border-bottom: 1px solid gray;flex-grow: 1;}#sk-container-id-3 div.sk-label:hover label.sk-toggleable__label {background-color: #d4ebff;}#sk-container-id-3 div.sk-serial::before {content: \"\";position: absolute;border-left: 1px solid gray;box-sizing: border-box;top: 0;bottom: 0;left: 50%;z-index: 0;}#sk-container-id-3 div.sk-serial {display: flex;flex-direction: column;align-items: center;background-color: white;padding-right: 0.2em;padding-left: 0.2em;position: relative;}#sk-container-id-3 div.sk-item {position: relative;z-index: 1;}#sk-container-id-3 div.sk-parallel {display: flex;align-items: stretch;justify-content: center;background-color: white;position: relative;}#sk-container-id-3 div.sk-item::before, #sk-container-id-3 div.sk-parallel-item::before {content: \"\";position: absolute;border-left: 1px solid gray;box-sizing: border-box;top: 0;bottom: 0;left: 50%;z-index: -1;}#sk-container-id-3 div.sk-parallel-item {display: flex;flex-direction: column;z-index: 1;position: relative;background-color: white;}#sk-container-id-3 div.sk-parallel-item:first-child::after {align-self: flex-end;width: 50%;}#sk-container-id-3 div.sk-parallel-item:last-child::after {align-self: flex-start;width: 50%;}#sk-container-id-3 div.sk-parallel-item:only-child::after {width: 0;}#sk-container-id-3 div.sk-dashed-wrapped {border: 1px dashed gray;margin: 0 0.4em 0.5em 0.4em;box-sizing: border-box;padding-bottom: 0.4em;background-color: white;}#sk-container-id-3 div.sk-label label {font-family: monospace;font-weight: bold;display: inline-block;line-height: 1.2em;}#sk-container-id-3 div.sk-label-container {text-align: center;}#sk-container-id-3 div.sk-container {/* jupyter's `normalize.less` sets `[hidden] { display: none; }` but bootstrap.min.css set `[hidden] { display: none !important; }` so we also need the `!important` here to be able to override the default hidden behavior on the sphinx rendered scikit-learn.org. See: https://github.com/scikit-learn/scikit-learn/issues/21755 */display: inline-block !important;position: relative;}#sk-container-id-3 div.sk-text-repr-fallback {display: none;}</style><div id=\"sk-container-id-3\" class=\"sk-top-container\"><div class=\"sk-text-repr-fallback\"><pre>RandomForestClassifier()</pre><b>In a Jupyter environment, please rerun this cell to show the HTML representation or trust the notebook. <br />On GitHub, the HTML representation is unable to render, please try loading this page with nbviewer.org.</b></div><div class=\"sk-container\" hidden><div class=\"sk-item\"><div class=\"sk-estimator sk-toggleable\"><input class=\"sk-toggleable__control sk-hidden--visually\" id=\"sk-estimator-id-3\" type=\"checkbox\" checked><label for=\"sk-estimator-id-3\" class=\"sk-toggleable__label sk-toggleable__label-arrow\">RandomForestClassifier</label><div class=\"sk-toggleable__content\"><pre>RandomForestClassifier()</pre></div></div></div></div></div>"
            ]
          },
          "metadata": {},
          "execution_count": 30
        }
      ]
    },
    {
      "cell_type": "code",
      "source": [
        "y_pred=rf.predict(x_test)"
      ],
      "metadata": {
        "id": "ixkxNvTzbxqY"
      },
      "execution_count": null,
      "outputs": []
    },
    {
      "cell_type": "code",
      "source": [
        "y_pred"
      ],
      "metadata": {
        "colab": {
          "base_uri": "https://localhost:8080/"
        },
        "id": "qSbCbMrab5Se",
        "outputId": "64762aa3-9233-4bf4-c479-b06868552489"
      },
      "execution_count": null,
      "outputs": [
        {
          "output_type": "execute_result",
          "data": {
            "text/plain": [
              "array([4, 9, 1, 1, 5, 9, 4, 9, 3, 1, 1, 9, 2, 0, 9, 7, 1, 7, 2, 1, 3, 2,\n",
              "       9, 3, 3, 1, 3, 5, 1, 7, 7, 7, 7, 6, 5, 3, 6, 9, 8, 9, 0, 5, 8, 1,\n",
              "       6, 2, 0, 8, 3, 3, 5, 6, 9, 6, 4, 4, 3, 5, 7, 3, 0, 8, 3, 3, 4, 7,\n",
              "       8, 7, 3, 7, 0, 2, 1, 3, 8, 5, 2, 1, 1, 8, 1, 3, 2, 6, 6, 2, 4, 9,\n",
              "       5, 9, 4, 9, 2, 5, 3, 5, 2, 4, 8, 1, 8, 0, 0, 5, 8, 0, 6, 0, 5, 2,\n",
              "       3, 5, 6, 4, 3, 9, 7, 8, 9, 7, 4, 5, 5, 4, 4, 8, 4, 9, 9, 7, 9, 8,\n",
              "       2, 1, 3, 6, 6, 8, 6, 6, 7, 7, 8, 6, 5, 6, 6, 2, 1, 1, 6, 4, 0, 2,\n",
              "       0, 0, 6, 3, 1, 8, 4, 5, 6, 3, 2, 1, 4, 9, 1, 1, 5, 3, 7, 1, 6, 3,\n",
              "       3, 2, 3, 9, 4, 6, 1, 8, 2, 7, 2, 8, 7, 6, 9, 4, 1, 2, 2, 5, 4, 7,\n",
              "       9, 8, 5, 2, 7, 8, 4, 8, 0, 6, 9, 3, 4, 1, 6, 5, 8, 1, 0, 0, 5, 9,\n",
              "       6, 6, 1, 3, 3, 2, 9, 9, 0, 4, 4, 5, 4, 6, 4, 8, 4, 8, 6, 7, 2, 6,\n",
              "       9, 2, 3, 7, 5, 7, 1, 7, 3, 3, 6, 3, 8, 6, 8, 1, 1, 1, 1, 9, 0, 6,\n",
              "       0, 7, 8, 6, 2, 8, 4, 4, 2, 8, 0, 9, 3, 0, 1, 7, 0, 4, 6, 0, 1, 4,\n",
              "       9, 3, 0, 9, 5, 8, 1, 4, 9, 3, 2, 6, 1, 2, 9, 5, 0, 6, 8, 2, 3, 0,\n",
              "       0, 2, 8, 2, 4, 8, 6, 5, 7, 8, 0, 9, 4, 7, 7, 8, 3, 5, 5, 5, 5, 4,\n",
              "       4, 3, 9, 9, 3, 5, 9, 5, 7, 5, 3, 0, 1, 8, 8, 1, 8, 0, 9, 9, 1, 8,\n",
              "       8, 2, 3, 0, 0, 7, 5, 7, 3, 5, 1, 5, 3, 4, 0, 6, 8, 3, 8, 0, 3, 2,\n",
              "       8, 2, 9, 7, 9, 4, 4, 9, 4, 0, 1, 9, 9, 5, 5, 5, 3, 5, 4, 8, 6, 0,\n",
              "       5, 7, 6, 4, 3, 4, 2, 2, 9, 3, 0, 7, 0, 4, 3, 6, 2, 0, 9, 6, 2, 2,\n",
              "       6, 6, 5, 1, 1, 3, 8, 0, 9, 9, 5, 7, 7, 2, 5, 4, 5, 9, 6, 8, 2, 0,\n",
              "       3, 2, 7, 8, 9, 4, 4, 9, 2, 9, 7, 4, 0, 3, 3, 5, 7, 9, 6, 1, 4, 3,\n",
              "       1, 7, 1, 2, 1, 4, 1, 5, 0, 3, 5, 9, 9, 4, 2, 1, 7, 6, 5, 2, 4, 5,\n",
              "       9, 0, 3, 1, 7, 3, 9, 6, 7, 1, 1, 5, 0, 6, 8, 4, 6, 2, 9, 4, 3, 1,\n",
              "       0, 9, 0, 6, 0, 0, 6, 3, 9, 6, 5, 1, 5, 9, 7, 6, 6, 8, 4, 4, 1, 1,\n",
              "       9, 8, 6, 5, 8, 6, 7, 9, 8, 3, 8, 6])"
            ]
          },
          "metadata": {},
          "execution_count": 32
        }
      ]
    },
    {
      "cell_type": "code",
      "source": [
        "from sklearn.metrics import confusion_matrix,classification_report\n"
      ],
      "metadata": {
        "id": "j5oLHWc0b_Yt"
      },
      "execution_count": null,
      "outputs": []
    },
    {
      "cell_type": "code",
      "source": [
        "confusion_matrix(y_test,y_pred)"
      ],
      "metadata": {
        "colab": {
          "base_uri": "https://localhost:8080/"
        },
        "id": "eBK4u8PLcI4X",
        "outputId": "2e91ff0c-066c-460c-85cb-708525ab0ac3"
      },
      "execution_count": null,
      "outputs": [
        {
          "output_type": "execute_result",
          "data": {
            "text/plain": [
              "array([[48,  0,  0,  0,  0,  0,  0,  0,  0,  0],\n",
              "       [ 0, 54,  0,  0,  0,  1,  0,  0,  0,  0],\n",
              "       [ 0,  0, 47,  0,  0,  0,  0,  0,  0,  0],\n",
              "       [ 0,  0,  0, 59,  0,  0,  0,  1,  1,  0],\n",
              "       [ 0,  1,  0,  0, 55,  0,  0,  0,  0,  2],\n",
              "       [ 0,  0,  0,  0,  0, 52,  1,  0,  1,  0],\n",
              "       [ 0,  0,  0,  0,  0,  1, 57,  0,  0,  0],\n",
              "       [ 0,  0,  0,  0,  0,  0,  0, 44,  0,  0],\n",
              "       [ 0,  1,  0,  0,  0,  1,  0,  1, 51,  1],\n",
              "       [ 0,  0,  0,  1,  0,  0,  0,  0,  0, 59]])"
            ]
          },
          "metadata": {},
          "execution_count": 35
        }
      ]
    },
    {
      "cell_type": "code",
      "source": [
        "print(classification_report(y_test,y_pred))\n"
      ],
      "metadata": {
        "colab": {
          "base_uri": "https://localhost:8080/"
        },
        "id": "lKQfq2TYcSuu",
        "outputId": "32cb542e-d150-4179-83e5-c6126991678d"
      },
      "execution_count": null,
      "outputs": [
        {
          "output_type": "stream",
          "name": "stdout",
          "text": [
            "              precision    recall  f1-score   support\n",
            "\n",
            "           0       1.00      1.00      1.00        48\n",
            "           1       0.96      0.98      0.97        55\n",
            "           2       1.00      1.00      1.00        47\n",
            "           3       0.98      0.97      0.98        61\n",
            "           4       1.00      0.95      0.97        58\n",
            "           5       0.95      0.96      0.95        54\n",
            "           6       0.98      0.98      0.98        58\n",
            "           7       0.96      1.00      0.98        44\n",
            "           8       0.96      0.93      0.94        55\n",
            "           9       0.95      0.98      0.97        60\n",
            "\n",
            "    accuracy                           0.97       540\n",
            "   macro avg       0.97      0.98      0.97       540\n",
            "weighted avg       0.97      0.97      0.97       540\n",
            "\n"
          ]
        }
      ]
    }
  ]
}